{
 "cells": [
  {
   "cell_type": "markdown",
   "metadata": {},
   "source": [
    "This notebook is the first of a series of various data analyses in which I try to better understand the United States' opioid epidemic. For background on this public health crisis: https://www.hhs.gov/opioids/about-the-epidemic/"
   ]
  },
  {
   "cell_type": "markdown",
   "metadata": {},
   "source": [
    "The first dataset I will examine is the State of Connectcut's \"Accidental Drug Related Deaths 2012-2016\" https://catalog.data.gov/dataset/accidental-drug-related-deaths-january-2012-sept-2015 \n",
    "\n",
    "The corresponding csv file can be found in the directory."
   ]
  },
  {
   "cell_type": "code",
   "execution_count": 53,
   "metadata": {
    "collapsed": false
   },
   "outputs": [],
   "source": [
    "#first, let's load the data and see its structure\n",
    "import pandas as pd\n",
    "import numpy as np\n",
    "import matplotlib.pyplot as plt\n",
    "from datetime import *\n",
    "import shapefile\n",
    "dataframe = pd.read_csv('Accidental_Drug_Related_Deaths__2012-2016.csv')"
   ]
  },
  {
   "cell_type": "code",
   "execution_count": 2,
   "metadata": {
    "collapsed": false
   },
   "outputs": [
    {
     "name": "stdout",
     "output_type": "stream",
     "text": [
      "(3045, 32)\n"
     ]
    }
   ],
   "source": [
    "print(dataframe.shape)"
   ]
  },
  {
   "cell_type": "code",
   "execution_count": 3,
   "metadata": {
    "collapsed": false
   },
   "outputs": [
    {
     "name": "stdout",
     "output_type": "stream",
     "text": [
      "Index(['CaseNumber', 'Date', 'Sex', 'Race', 'Age', 'Residence City',\n",
      "       'Residence State', 'Residence County', 'Death City', 'Death State',\n",
      "       'Death County', 'Location', 'DescriptionofInjury', 'InjuryPlace',\n",
      "       'ImmediateCauseA', 'Heroin', 'Cocaine', 'Fentanyl', 'Oxycodone',\n",
      "       'Oxymorphone', 'EtOH', 'Hydro-codeine', 'Benzodiazepine', 'Methadone',\n",
      "       'Amphet', 'Tramad', 'Morphine (not heroin)', 'Other', 'Any Opioid',\n",
      "       'MannerofDeath', 'AmendedMannerofDeath', 'DeathLoc'],\n",
      "      dtype='object')\n"
     ]
    }
   ],
   "source": [
    "#let's see what the headers look like \n",
    "print(dataframe.columns)"
   ]
  },
  {
   "cell_type": "markdown",
   "metadata": {},
   "source": [
    "As we see, there are a lot of different angles from which we can appraoch this data. Both the spatial and temporal elements can help provide more insight into how the epidemic is affecting the state of Connecticut. "
   ]
  },
  {
   "cell_type": "code",
   "execution_count": 4,
   "metadata": {
    "collapsed": false
   },
   "outputs": [],
   "source": [
    "#from a high level, let's first see how the number of heroin-related deaths has changed over the course of the 4 years. \n",
    "#we can construct dataframes for each year and save them for later use\n",
    "\n",
    "#converting the date column into a more readable format \n",
    "#for date in dataframe['Date']: \n",
    " #   print(date)\n",
    "\n",
    "clean_dates = []\n",
    "\n",
    "df_2012 = dataframe[dataframe['Date'].str.contains('2012')==True]\n",
    "df_2013 = dataframe[dataframe['Date'].str.contains('2013')==True]\n",
    "df_2014 = dataframe[dataframe['Date'].str.contains('2014')==True]\n",
    "df_2015 = dataframe[dataframe['Date'].str.contains('2015')==True]\n",
    "df_2016 = dataframe[dataframe['Date'].str.contains('2016')==True]\n",
    "\n"
   ]
  },
  {
   "cell_type": "code",
   "execution_count": 5,
   "metadata": {
    "collapsed": false
   },
   "outputs": [
    {
     "name": "stdout",
     "output_type": "stream",
     "text": [
      "1652\n"
     ]
    }
   ],
   "source": [
    "#We see 1652 heroin-related deaths in the entire dataset\n",
    "print(dataframe['Heroin'].value_counts()['Y'])\n"
   ]
  },
  {
   "cell_type": "code",
   "execution_count": 6,
   "metadata": {
    "collapsed": false
   },
   "outputs": [
    {
     "name": "stdout",
     "output_type": "stream",
     "text": [
      "Year\tHeroin-Related Deaths\n",
      "2012\t174\n",
      "2013\t256\n",
      "2014\t325\n",
      "2015\t415\n",
      "2016\t482\n"
     ]
    }
   ],
   "source": [
    "#Let's dig further into how many heroin-related deaths have occured on a year-by-year basis. \n",
    "\n",
    "\n",
    "print(\"Year\\tHeroin-Related Deaths\")\n",
    "print(\"2012\\t\"+str(df_2012['Heroin'].value_counts()['Y']))\n",
    "print(\"2013\\t\"+str(df_2013['Heroin'].value_counts()['Y']))\n",
    "print(\"2014\\t\"+str(df_2014['Heroin'].value_counts()['Y']))\n",
    "print(\"2015\\t\"+str(df_2015['Heroin'].value_counts()['Y']))\n",
    "print(\"2016\\t\"+str(df_2016['Heroin'].value_counts()['Y']))\n"
   ]
  },
  {
   "cell_type": "markdown",
   "metadata": {},
   "source": [
    "As we can see, the number of heroin-related deaths in the state of Connecticut has increased steadily in the past four years. We can use this as a baseline to dig deeper. "
   ]
  },
  {
   "cell_type": "markdown",
   "metadata": {
    "collapsed": true
   },
   "source": [
    "Let's now try to visualize the given data geospatially. We can use external Census data to construct a heatmap of the state of Connecticut colored by the number of heroin-related deaths at the zip-code level. We can then see how this evolves year-to-year. "
   ]
  },
  {
   "cell_type": "markdown",
   "metadata": {},
   "source": [
    "For this, we can use a zip-code database: http://federalgovernmentzipcodes.us/"
   ]
  },
  {
   "cell_type": "code",
   "execution_count": 7,
   "metadata": {
    "collapsed": false
   },
   "outputs": [],
   "source": [
    "#Load the data \n",
    "zip_codes = pd.read_csv('free-zipcode-database.csv', dtype = {\"RecordNumber\": int, \"Zipcode\": str}, low_memory=False)"
   ]
  },
  {
   "cell_type": "code",
   "execution_count": 54,
   "metadata": {
    "collapsed": false
   },
   "outputs": [],
   "source": [
    "#pull the zip codes for CT only \n",
    "zip_codes_ct = zip_codes[zip_codes['State'].str.contains('CT') == True]\n",
    "#throw out the rest of the data\n",
    "zip_codes_ct = zip_codes_ct[['Zipcode', 'City']]\n",
    "\n",
    "#joining the data on the city name to obtain the zip code for each city\n",
    "#note: this isn't wholly accurate since one city may have multiple zip codes, but we will ignore this for simplicity\n",
    "dataframe_zip = pd.merge(dataframe, \n",
    "                zip_codes_ct.drop_duplicates('City'), left_on='Death City', right_on='City', \n",
    "                how='left')"
   ]
  },
  {
   "cell_type": "code",
   "execution_count": 93,
   "metadata": {
    "collapsed": false
   },
   "outputs": [
    {
     "name": "stdout",
     "output_type": "stream",
     "text": [
      "         Heroin\n",
      "Zipcode        \n",
      "06101       199\n",
      "06501       125\n",
      "06701       121\n",
      "06601       110\n",
      "06050        79\n"
     ]
    }
   ],
   "source": [
    "#as it turns out, GIS is more involved than I initially thought. I will come back to creating the map\n",
    "#We can at least see which cities have had the greatest number of heroin-related deaths\n",
    "\n",
    "df = dataframe_zip.groupby('Zipcode').count()\n",
    "print(df[['Heroin']].sort_values('Heroin', ascending=False)[0:5])\n",
    "\n"
   ]
  },
  {
   "cell_type": "code",
   "execution_count": null,
   "metadata": {
    "collapsed": true
   },
   "outputs": [],
   "source": []
  }
 ],
 "metadata": {
  "kernelspec": {
   "display_name": "Python 3",
   "language": "python",
   "name": "python3"
  },
  "language_info": {
   "codemirror_mode": {
    "name": "ipython",
    "version": 3
   },
   "file_extension": ".py",
   "mimetype": "text/x-python",
   "name": "python",
   "nbconvert_exporter": "python",
   "pygments_lexer": "ipython3",
   "version": "3.6.0"
  }
 },
 "nbformat": 4,
 "nbformat_minor": 2
}
