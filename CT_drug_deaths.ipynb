{
 "cells": [
  {
   "cell_type": "markdown",
   "metadata": {},
   "source": [
    "This notebook is the first of a series of various data analyses in which I try to better understand the United States' opioid epidemic. For background on this public health crisis: https://www.hhs.gov/opioids/about-the-epidemic/"
   ]
  },
  {
   "cell_type": "markdown",
   "metadata": {},
   "source": [
    "The first dataset I will examine is the State of Connectcut's \"Accidental Drug Related Deaths 2012-2016\" https://catalog.data.gov/dataset/accidental-drug-related-deaths-january-2012-sept-2015 \n",
    "\n",
    "The corresponding csv file can be found in the directory."
   ]
  },
  {
   "cell_type": "code",
   "execution_count": 47,
   "metadata": {
    "collapsed": true
   },
   "outputs": [],
   "source": [
    "#first, let's load the data and see its structure\n",
    "import pandas as pd\n",
    "import numpy as np\n",
    "import matplotlib.pyplot as plt\n",
    "\n",
    "dataframe = pd.read_csv('Accidental_Drug_Related_Deaths__2012-2016.csv')"
   ]
  },
  {
   "cell_type": "code",
   "execution_count": 4,
   "metadata": {
    "collapsed": false
   },
   "outputs": [
    {
     "name": "stdout",
     "output_type": "stream",
     "text": [
      "(3045, 32)\n"
     ]
    }
   ],
   "source": [
    "print(dataframe.shape)"
   ]
  },
  {
   "cell_type": "code",
   "execution_count": 7,
   "metadata": {
    "collapsed": false
   },
   "outputs": [
    {
     "name": "stdout",
     "output_type": "stream",
     "text": [
      "Index(['CaseNumber', 'Date', 'Sex', 'Race', 'Age', 'Residence City',\n",
      "       'Residence State', 'Residence County', 'Death City', 'Death State',\n",
      "       'Death County', 'Location', 'DescriptionofInjury', 'InjuryPlace',\n",
      "       'ImmediateCauseA', 'Heroin', 'Cocaine', 'Fentanyl', 'Oxycodone',\n",
      "       'Oxymorphone', 'EtOH', 'Hydro-codeine', 'Benzodiazepine', 'Methadone',\n",
      "       'Amphet', 'Tramad', 'Morphine (not heroin)', 'Other', 'Any Opioid',\n",
      "       'MannerofDeath', 'AmendedMannerofDeath', 'DeathLoc'],\n",
      "      dtype='object')\n"
     ]
    }
   ],
   "source": [
    "#let's see what the headers look like \n",
    "print(dataframe.columns)"
   ]
  },
  {
   "cell_type": "markdown",
   "metadata": {},
   "source": [
    "As we see, there are a lot of different angles from which we can appraoch this data. Both the spatial and temporal elements can help provide more insight into how the epidemic is affecting the state of Connecticut. "
   ]
  },
  {
   "cell_type": "code",
   "execution_count": 40,
   "metadata": {
    "collapsed": false
   },
   "outputs": [],
   "source": [
    "#from a high level, let's first see how the number of heroin-related deaths has changed over the course of the 4 years. \n",
    "#we can construct dataframes for each year and save them for later use\n",
    "df_2012 = dataframe[dataframe['Date'].str.contains('2012')==True]\n",
    "df_2013 = dataframe[dataframe['Date'].str.contains('2013')==True]\n",
    "df_2014 = dataframe[dataframe['Date'].str.contains('2014')==True]\n",
    "df_2015 = dataframe[dataframe['Date'].str.contains('2015')==True]\n",
    "df_2016 = dataframe[dataframe['Date'].str.contains('2016')==True]"
   ]
  },
  {
   "cell_type": "code",
   "execution_count": 38,
   "metadata": {
    "collapsed": false
   },
   "outputs": [
    {
     "data": {
      "text/plain": [
       "1652"
      ]
     },
     "execution_count": 38,
     "metadata": {},
     "output_type": "execute_result"
    }
   ],
   "source": [
    "#We see 1652 heroin-related deaths in the entire dataset\n",
    "print(dataframe['Heroin'].value_counts()['Y'])"
   ]
  },
  {
   "cell_type": "code",
   "execution_count": 57,
   "metadata": {
    "collapsed": false
   },
   "outputs": [
    {
     "name": "stdout",
     "output_type": "stream",
     "text": [
      "Year\tHeroin-Related Deaths\n",
      "2012\t174\n",
      "2013\t256\n",
      "2014\t325\n",
      "2015\t415\n",
      "2016\t482\n"
     ]
    }
   ],
   "source": [
    "#Let's dig further into how many heroin-related deaths have occured on a year-by-year basis. \n",
    "\n",
    "print(\"Year\\tHeroin-Related Deaths\")\n",
    "print(\"2012\\t\"+str(df_2012['Heroin'].value_counts()['Y']))\n",
    "print(\"2013\\t\"+str(df_2013['Heroin'].value_counts()['Y']))\n",
    "print(\"2014\\t\"+str(df_2014['Heroin'].value_counts()['Y']))\n",
    "print(\"2015\\t\"+str(df_2015['Heroin'].value_counts()['Y']))\n",
    "print(\"2016\\t\"+str(df_2016['Heroin'].value_counts()['Y']))\n"
   ]
  },
  {
   "cell_type": "markdown",
   "metadata": {},
   "source": [
    "As we can see, the number of heroin-related deaths in the state of Connecticut has increased steadily in the past four years. We can use this as a baseline to dig deeper. "
   ]
  },
  {
   "cell_type": "code",
   "execution_count": null,
   "metadata": {
    "collapsed": true
   },
   "outputs": [],
   "source": []
  }
 ],
 "metadata": {
  "kernelspec": {
   "display_name": "Python 3",
   "language": "python",
   "name": "python3"
  },
  "language_info": {
   "codemirror_mode": {
    "name": "ipython",
    "version": 3
   },
   "file_extension": ".py",
   "mimetype": "text/x-python",
   "name": "python",
   "nbconvert_exporter": "python",
   "pygments_lexer": "ipython3",
   "version": "3.6.0"
  }
 },
 "nbformat": 4,
 "nbformat_minor": 2
}
