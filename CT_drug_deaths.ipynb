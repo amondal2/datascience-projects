{
 "cells": [
  {
   "cell_type": "markdown",
   "metadata": {},
   "source": [
    "This notebook is the first of a series of various data analyses in which I try to better understand the United States' opioid epidemic. For background on this public health crisis: https://www.hhs.gov/opioids/about-the-epidemic/"
   ]
  },
  {
   "cell_type": "markdown",
   "metadata": {},
   "source": [
    "The first dataset I will examine is the State of Connectcut's \"Accidental Drug Related Deaths 2012-2016\" https://catalog.data.gov/dataset/accidental-drug-related-deaths-january-2012-sept-2015 \n",
    "\n",
    "The corresponding csv file can be found in the directory."
   ]
  },
  {
   "cell_type": "code",
   "execution_count": 199,
   "metadata": {
    "collapsed": false
   },
   "outputs": [],
   "source": [
    "#first, let's load the data and see its structure\n",
    "import pandas as pd\n",
    "import numpy as np\n",
    "import matplotlib.pyplot as plt\n",
    "from matplotlib import axes\n",
    "from datetime import *\n",
    "import shapefile\n",
    "from sklearn.linear_model import LogisticRegression\n",
    "from patsy import dmatrices\n",
    "from sklearn.cross_validation import train_test_split\n",
    "from sklearn import metrics\n",
    "\n",
    "dataframe = pd.read_csv('Accidental_Drug_Related_Deaths__2012-2016.csv')"
   ]
  },
  {
   "cell_type": "code",
   "execution_count": 3,
   "metadata": {
    "collapsed": false
   },
   "outputs": [
    {
     "name": "stdout",
     "output_type": "stream",
     "text": [
      "(3045, 32)\n"
     ]
    }
   ],
   "source": [
    "print(dataframe.shape)"
   ]
  },
  {
   "cell_type": "code",
   "execution_count": 4,
   "metadata": {
    "collapsed": false
   },
   "outputs": [
    {
     "name": "stdout",
     "output_type": "stream",
     "text": [
      "Index(['CaseNumber', 'Date', 'Sex', 'Race', 'Age', 'Residence City',\n",
      "       'Residence State', 'Residence County', 'Death City', 'Death State',\n",
      "       'Death County', 'Location', 'DescriptionofInjury', 'InjuryPlace',\n",
      "       'ImmediateCauseA', 'Heroin', 'Cocaine', 'Fentanyl', 'Oxycodone',\n",
      "       'Oxymorphone', 'EtOH', 'Hydro-codeine', 'Benzodiazepine', 'Methadone',\n",
      "       'Amphet', 'Tramad', 'Morphine (not heroin)', 'Other', 'Any Opioid',\n",
      "       'MannerofDeath', 'AmendedMannerofDeath', 'DeathLoc'],\n",
      "      dtype='object')\n"
     ]
    }
   ],
   "source": [
    "#let's see what the headers look like \n",
    "print(dataframe.columns)"
   ]
  },
  {
   "cell_type": "markdown",
   "metadata": {},
   "source": [
    "As we see, there are a lot of different angles from which we can appraoch this data. Both the spatial and temporal elements can help provide more insight into how the epidemic is affecting the state of Connecticut. "
   ]
  },
  {
   "cell_type": "code",
   "execution_count": 5,
   "metadata": {
    "collapsed": false
   },
   "outputs": [],
   "source": [
    "#from a high level, let's first see how the number of heroin-related deaths has changed over the course of the 4 years. \n",
    "#we can construct dataframes for each year and save them for later use\n",
    "\n",
    "#converting the date column into a more readable format \n",
    "#for date in dataframe['Date']: \n",
    " #   print(date)\n",
    "\n",
    "df_2012 = dataframe[dataframe['Date'].str.contains('2012')==True]\n",
    "df_2013 = dataframe[dataframe['Date'].str.contains('2013')==True]\n",
    "df_2014 = dataframe[dataframe['Date'].str.contains('2014')==True]\n",
    "df_2015 = dataframe[dataframe['Date'].str.contains('2015')==True]\n",
    "df_2016 = dataframe[dataframe['Date'].str.contains('2016')==True]\n",
    "\n"
   ]
  },
  {
   "cell_type": "code",
   "execution_count": 6,
   "metadata": {
    "collapsed": false
   },
   "outputs": [
    {
     "name": "stdout",
     "output_type": "stream",
     "text": [
      "1652\n"
     ]
    }
   ],
   "source": [
    "#We see 1652 heroin-related deaths in the entire dataset\n",
    "print(dataframe['Heroin'].value_counts()['Y'])\n"
   ]
  },
  {
   "cell_type": "code",
   "execution_count": 7,
   "metadata": {
    "collapsed": false
   },
   "outputs": [
    {
     "name": "stdout",
     "output_type": "stream",
     "text": [
      "Year\tHeroin-Related Deaths\n",
      "2012\t174\n",
      "2013\t256\n",
      "2014\t325\n",
      "2015\t415\n",
      "2016\t482\n"
     ]
    }
   ],
   "source": [
    "#Let's dig further into how many heroin-related deaths have occured on a year-by-year basis. \n",
    "\n",
    "\n",
    "print(\"Year\\tHeroin-Related Deaths\")\n",
    "print(\"2012\\t\"+str(df_2012['Heroin'].value_counts()['Y']))\n",
    "print(\"2013\\t\"+str(df_2013['Heroin'].value_counts()['Y']))\n",
    "print(\"2014\\t\"+str(df_2014['Heroin'].value_counts()['Y']))\n",
    "print(\"2015\\t\"+str(df_2015['Heroin'].value_counts()['Y']))\n",
    "print(\"2016\\t\"+str(df_2016['Heroin'].value_counts()['Y']))\n"
   ]
  },
  {
   "cell_type": "markdown",
   "metadata": {},
   "source": [
    "As we can see, the number of heroin-related deaths in the state of Connecticut has increased steadily in the past four years. We can use this as a baseline to dig deeper. "
   ]
  },
  {
   "cell_type": "markdown",
   "metadata": {
    "collapsed": true
   },
   "source": [
    "Let's now try to visualize the given data geospatially. We can use external Census data to construct a heatmap of the state of Connecticut colored by the number of heroin-related deaths at the zip-code level. We can then see how this evolves year-to-year. "
   ]
  },
  {
   "cell_type": "markdown",
   "metadata": {},
   "source": [
    "For this, we can use a zip-code database: http://federalgovernmentzipcodes.us/"
   ]
  },
  {
   "cell_type": "code",
   "execution_count": 8,
   "metadata": {
    "collapsed": false
   },
   "outputs": [],
   "source": [
    "#Load the data \n",
    "zip_codes = pd.read_csv('free-zipcode-database.csv', dtype = {\"RecordNumber\": int, \"Zipcode\": str}, low_memory=False)"
   ]
  },
  {
   "cell_type": "code",
   "execution_count": 9,
   "metadata": {
    "collapsed": false
   },
   "outputs": [],
   "source": [
    "#pull the zip codes for CT only \n",
    "zip_codes_ct = zip_codes[zip_codes['State'].str.contains('CT') == True]\n",
    "#throw out the rest of the data\n",
    "zip_codes_ct = zip_codes_ct[['Zipcode', 'City']]\n",
    "\n",
    "#joining the data on the city name to obtain the zip code for each city\n",
    "#note: this isn't wholly accurate since one city may have multiple zip codes, but we will ignore this for simplicity\n",
    "dataframe_zip = pd.merge(dataframe, \n",
    "                zip_codes_ct.drop_duplicates('City'), left_on='Death City', right_on='City', \n",
    "                how='left')"
   ]
  },
  {
   "cell_type": "code",
   "execution_count": 10,
   "metadata": {
    "collapsed": false
   },
   "outputs": [
    {
     "name": "stdout",
     "output_type": "stream",
     "text": [
      "         Heroin\n",
      "Zipcode        \n",
      "06101       199\n",
      "06501       125\n",
      "06701       121\n",
      "06601       110\n",
      "06050        79\n"
     ]
    }
   ],
   "source": [
    "#as it turns out, GIS is more involved than I initially thought. I will come back to creating the map\n",
    "#We can at least see which cities have had the greatest number of heroin-related deaths\n",
    "\n",
    "df = dataframe_zip.groupby('Zipcode').count()\n",
    "print(df[['Heroin']].sort_values('Heroin', ascending=False)[0:5])\n",
    "\n"
   ]
  },
  {
   "cell_type": "markdown",
   "metadata": {
    "collapsed": true
   },
   "source": [
    "With high-level temporal and geospatial understanding of the data, let's dig into some demographic features. The main demographic indicators we have are sex, age, and race. "
   ]
  },
  {
   "cell_type": "markdown",
   "metadata": {},
   "source": [
    "With sex, we can see if there are any significant differences between male and female in terms of heroin-related deaths."
   ]
  },
  {
   "cell_type": "code",
   "execution_count": 11,
   "metadata": {
    "collapsed": false
   },
   "outputs": [],
   "source": [
    "dataframe_male = dataframe[dataframe['Sex'].str.contains('Male')==True]\n",
    "dataframe_female = dataframe[dataframe['Sex'].str.contains('Female')==True]"
   ]
  },
  {
   "cell_type": "code",
   "execution_count": 18,
   "metadata": {
    "collapsed": false
   },
   "outputs": [
    {
     "name": "stdout",
     "output_type": "stream",
     "text": [
      "Male Heroin-related Deaths:\t1295\n",
      "Female Heroin-related Deaths:\t357\n"
     ]
    }
   ],
   "source": [
    "print(\"Male Heroin-related Deaths:\\t\" + str(dataframe_male['Heroin'].value_counts()['Y']))\n",
    "print(\"Female Heroin-related Deaths:\\t\" + str(dataframe_female['Heroin'].value_counts()['Y']))"
   ]
  },
  {
   "cell_type": "markdown",
   "metadata": {
    "collapsed": true
   },
   "source": [
    "As we can see, there is a significantly higher number of male heroin-related deaths than female. We can plot the time-series for each sex."
   ]
  },
  {
   "cell_type": "code",
   "execution_count": 45,
   "metadata": {
    "collapsed": false
   },
   "outputs": [
    {
     "data": {
      "image/png": "[encoded data removed]",
      "text/plain": [
       "<matplotlib.figure.Figure at 0x11524dba8>"
      ]
     },
     "metadata": {},
     "output_type": "display_data"
    }
   ],
   "source": [
    "years = [2012, 2013, 2014, 2015, 2016]\n",
    "#dataframes by year male\n",
    "df_2012_male = dataframe_male[dataframe_male['Date'].str.contains('2012')==True]\n",
    "df_2013_male = dataframe_male[dataframe_male['Date'].str.contains('2013')==True]\n",
    "df_2014_male = dataframe_male[dataframe_male['Date'].str.contains('2014')==True]\n",
    "df_2015_male = dataframe_male[dataframe_male['Date'].str.contains('2015')==True]\n",
    "df_2016_male = dataframe_male[dataframe_male['Date'].str.contains('2016')==True]\n",
    "deaths_by_year_male = [df_2012_male['Heroin'].value_counts()['Y'], df_2013_male['Heroin'].value_counts()['Y'], \n",
    "                       df_2014_male['Heroin'].value_counts()['Y'], df_2015_male['Heroin'].value_counts()['Y'],\n",
    "                      df_2016_male['Heroin'].value_counts()['Y']]\n",
    "\n",
    "#dataframes by year female \n",
    "df_2012_female = dataframe_female[dataframe_female['Date'].str.contains('2012')==True]\n",
    "df_2013_female = dataframe_female[dataframe_female['Date'].str.contains('2013')==True]\n",
    "df_2014_female = dataframe_female[dataframe_female['Date'].str.contains('2014')==True]\n",
    "df_2015_female = dataframe_female[dataframe_female['Date'].str.contains('2015')==True]\n",
    "df_2016_female = dataframe_female[dataframe_female['Date'].str.contains('2016')==True]\n",
    "deaths_by_year_female = [df_2012_female['Heroin'].value_counts()['Y'], df_2013_female['Heroin'].value_counts()['Y'], \n",
    "                       df_2014_female['Heroin'].value_counts()['Y'], df_2015_female['Heroin'].value_counts()['Y'],\n",
    "                      df_2016_female['Heroin'].value_counts()['Y']]\n",
    "\n",
    "#plot \n",
    "plt.scatter(years, deaths_by_year_male)\n",
    "plt.scatter(years, deaths_by_year_female)\n",
    "plt.xlabel('Year')\n",
    "plt.ylabel('Number of Deaths')\n",
    "plt.xticks(years, years)\n",
    "plt.show()\n"
   ]
  },
  {
   "cell_type": "markdown",
   "metadata": {},
   "source": [
    "Interestingly the number of male heroin-related deaths increases steadily every year, while the number of female heroin-related deaths stays relatively stable. Let's investigate the distribution of deaths by age. "
   ]
  },
  {
   "cell_type": "code",
   "execution_count": 99,
   "metadata": {
    "collapsed": false
   },
   "outputs": [
    {
     "data": {
      "image/png": "[encoded data removed]",
      "text/plain": [
       "<matplotlib.figure.Figure at 0x116797780>"
      ]
     },
     "metadata": {},
     "output_type": "display_data"
    }
   ],
   "source": [
    "#Group by age and count instances \n",
    "df = dataframe.groupby('Age').count()\n",
    "plt.plot(df['Heroin'])\n",
    "plt.xlabel(\"Age\")\n",
    "plt.ylabel(\"Number of Deaths\")\n",
    "plt.show()\n"
   ]
  },
  {
   "cell_type": "markdown",
   "metadata": {},
   "source": [
    "Since age is our only (sort of) continuous variable, let's run a simple logistic regression to see whether age is correlated with heroin death. "
   ]
  },
  {
   "cell_type": "code",
   "execution_count": 222,
   "metadata": {
    "collapsed": false
   },
   "outputs": [
    {
     "name": "stdout",
     "output_type": "stream",
     "text": [
      "0.598751232337\n"
     ]
    }
   ],
   "source": [
    "#extract relevant data \n",
    "df_logistic = dataframe[['Age','Heroin']]\n",
    "\n",
    "#clean data \n",
    "clean_values = []\n",
    "for val in df_logistic['Heroin'].iteritems():\n",
    "    if(val[1] is'Y'):\n",
    "        clean_values.append(1)\n",
    "    else:\n",
    "        clean_values.append(0)\n",
    "        \n",
    "se = pd.Series(clean_values)\n",
    "pd.options.mode.chained_assignment = None\n",
    "df_logistic['Heroin_values'] = se.values\n",
    "# instantiate a logistic regression model, and fit with X and y\n",
    "model = LogisticRegression()\n",
    "x_vals = df_logistic['Age'].values.reshape(1,-1)\n",
    "y_vals = df_logistic['Heroin_values'].values.reshape(1,-1)\n",
    "\n",
    "# check the accuracy on the training set\n",
    "x_vals = x_vals[0]\n",
    "y_vals = y_vals[0]\n",
    "\n",
    "#remove two nan\n",
    "x_vals = np.delete(x_vals, 981)\n",
    "y_vals = np.delete(y_vals, 981)\n",
    "x_vals = np.delete(x_vals, 1909)\n",
    "y_vals = np.delete(y_vals, 1909)\n",
    "\n",
    "#run logistic regression on training data (i.e. whole dataset)\n",
    "model = model.fit(x_vals.reshape(-1,1), y_vals.reshape(-1,1).ravel())\n",
    "\n",
    "# check the accuracy on the training set\n",
    "print(model.score(x_vals.reshape(-1,1), y_vals.reshape(-1,1).ravel()))\n",
    "\n",
    "\n",
    "\n",
    "\n",
    "\n"
   ]
  },
  {
   "cell_type": "markdown",
   "metadata": {},
   "source": [
    "As we can see, the accuracy of the model on the training data is around 60%. The regression isn't great, but we can see how good of a predictor age is of heroin-related death nonetheless as an exercise."
   ]
  },
  {
   "cell_type": "code",
   "execution_count": 212,
   "metadata": {
    "collapsed": false
   },
   "outputs": [
    {
     "data": {
      "text/plain": [
       "LogisticRegression(C=1.0, class_weight=None, dual=False, fit_intercept=True,\n",
       "          intercept_scaling=1, max_iter=100, multi_class='ovr', n_jobs=1,\n",
       "          penalty='l2', random_state=None, solver='liblinear', tol=0.0001,\n",
       "          verbose=0, warm_start=False)"
      ]
     },
     "execution_count": 212,
     "metadata": {},
     "output_type": "execute_result"
    }
   ],
   "source": [
    "#split the data into test and training sets \n",
    "X_train, X_test, y_train, y_test = train_test_split(x_vals.reshape(-1,1), y_vals.reshape(-1,1).ravel(), \n",
    "                                                    test_size=0.3, random_state=0)\n",
    "model2 = LogisticRegression()\n",
    "model2.fit(X_train, y_train)\n"
   ]
  },
  {
   "cell_type": "code",
   "execution_count": 213,
   "metadata": {
    "collapsed": false
   },
   "outputs": [
    {
     "name": "stdout",
     "output_type": "stream",
     "text": [
      "0.614457831325\n",
      "0.639210832848\n"
     ]
    }
   ],
   "source": [
    "#predict the labels for the X values test set \n",
    "predicted = model2.predict(X_test)\n",
    "\n",
    "#probabilities \n",
    "probs = model2.predict_proba(X_test)\n",
    "\n",
    "#finally, we can evaluate how our logistic regression model performed on the test data\n",
    "print(metrics.accuracy_score(y_test, predicted))\n",
    "print(metrics.roc_auc_score(y_test, probs[:, 1]))"
   ]
  },
  {
   "cell_type": "markdown",
   "metadata": {},
   "source": [
    "As we see, the accuracy of this model is slightly better than that predicted with the test data."
   ]
  },
  {
   "cell_type": "markdown",
   "metadata": {},
   "source": [
    "In this notebook, I performed basic data analysis, cleaning, and statistics on a public health dataset.\n",
    "I hope to expand on this data in future notebooks."
   ]
  },
  {
   "cell_type": "code",
   "execution_count": null,
   "metadata": {
    "collapsed": true
   },
   "outputs": [],
   "source": []
  }
 ],
 "metadata": {
  "kernelspec": {
   "display_name": "Python 3",
   "language": "python",
   "name": "python3"
  },
  "language_info": {
   "codemirror_mode": {
    "name": "ipython",
    "version": 3
   },
   "file_extension": ".py",
   "mimetype": "text/x-python",
   "name": "python",
   "nbconvert_exporter": "python",
   "pygments_lexer": "ipython3",
   "version": "3.6.0"
  }
 },
 "nbformat": 4,
 "nbformat_minor": 2
}
