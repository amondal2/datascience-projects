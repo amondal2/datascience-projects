{
 "cells": [
  {
   "cell_type": "markdown",
   "metadata": {},
   "source": [
    "# Analyzing Trump Tweets"
   ]
  },
  {
   "cell_type": "markdown",
   "metadata": {},
   "source": [
    "In this notebook, I will attempt to perform some analysis on Donald Trump's tweets. I hope to learn how to access Twitter's API to scrape tweet data, as well as some basic natural language processing."
   ]
  },
  {
   "cell_type": "code",
   "execution_count": 2,
   "metadata": {
    "collapsed": false
   },
   "outputs": [
    {
     "name": "stderr",
     "output_type": "stream",
     "text": [
      "/anaconda/lib/python3.6/site-packages/nltk/twitter/__init__.py:20: UserWarning: The twython library has not been installed. Some functionality from the twitter package will not be available.\n",
      "  warnings.warn(\"The twython library has not been installed. \"\n"
     ]
    }
   ],
   "source": [
    "import tweepy\n",
    "from tweepy import OAuthHandler\n",
    "import nltk\n",
    "from nltk.sentiment.vader import SentimentIntensityAnalyzer\n",
    "import matplotlib\n",
    "import matplotlib.pyplot as plt\n",
    "import itertools\n",
    "import pandas as pd"
   ]
  },
  {
   "cell_type": "code",
   "execution_count": 3,
   "metadata": {
    "collapsed": true
   },
   "outputs": [],
   "source": [
    "#set up access to Twitter API \n",
    "consumer_key = 'SsPIsxuj0sGUbSiSPVVUhqY9b'\n",
    "consumer_secret = 'vQi4cbKyYAnjYjuMFZ79g9i0MJFrgUofkZ7UfDyS2MFMNMYWsU'\n",
    "access_token = '868623131799412736-cyBXAkrU6fSWWWaIT97st2DUiyBCQvW'\n",
    "access_secret = 'Ei2jdovTshu9DVW7lbUsGv8CcbdrFKjC7meUSzBDHDHtb'\n",
    "\n",
    "auth = OAuthHandler(consumer_key, consumer_secret)\n",
    "auth.set_access_token(access_token, access_secret)\n",
    " \n",
    "api = tweepy.API(auth)"
   ]
  },
  {
   "cell_type": "markdown",
   "metadata": {
    "collapsed": false
   },
   "source": [
    "Since the Twitter API only returns tweets of one page at a time, we will have to iterate through the pages to grab the entire timeline. This code is adapted from https://gist.github.com/yanofsky/5436496"
   ]
  },
  {
   "cell_type": "code",
   "execution_count": 4,
   "metadata": {
    "collapsed": false
   },
   "outputs": [
    {
     "name": "stdout",
     "output_type": "stream",
     "text": [
      "getting tweets before 886635676787232767\n",
      "...375 tweets downloaded so far\n",
      "getting tweets before 877879361130688511\n",
      "...547 tweets downloaded so far\n",
      "getting tweets before 864207293289771011\n",
      "...730 tweets downloaded so far\n",
      "getting tweets before 850722694958075904\n",
      "...916 tweets downloaded so far\n",
      "getting tweets before 833435244451753983\n",
      "...1114 tweets downloaded so far\n",
      "getting tweets before 821705440178348032\n",
      "...1301 tweets downloaded so far\n",
      "getting tweets before 808638507161882623\n",
      "...1489 tweets downloaded so far\n",
      "getting tweets before 795019500345233407\n",
      "...1681 tweets downloaded so far\n",
      "getting tweets before 789224624320028671\n",
      "...1863 tweets downloaded so far\n",
      "getting tweets before 785913754194104319\n",
      "...2024 tweets downloaded so far\n",
      "getting tweets before 781784161044553727\n",
      "...2205 tweets downloaded so far\n",
      "getting tweets before 774435151975747583\n",
      "...2397 tweets downloaded so far\n",
      "getting tweets before 766616610975182847\n",
      "...2585 tweets downloaded so far\n",
      "getting tweets before 759185456818860031\n",
      "...2781 tweets downloaded so far\n",
      "getting tweets before 754136526087487487\n",
      "...2979 tweets downloaded so far\n",
      "getting tweets before 746145338608713727\n",
      "...2999 tweets downloaded so far\n",
      "getting tweets before 745693029089034239\n",
      "...2999 tweets downloaded so far\n"
     ]
    }
   ],
   "source": [
    "#initialize a list to hold all the tweepy Tweets\n",
    "alltweets = []\n",
    "\n",
    "#make initial request for most recent tweets (200 is the maximum allowed count)\n",
    "new_tweets = api.user_timeline(screen_name = 'realDonaldTrump',count=200,include_rts = True)\n",
    "\n",
    "#save most recent tweets\n",
    "alltweets.extend(new_tweets)\n",
    "\n",
    "#save the id of the oldest tweet less one\n",
    "oldest = alltweets[-1].id - 1\n",
    "\n",
    "#keep grabbing tweets until there are no tweets left to grab\n",
    "while len(new_tweets) > 0:\n",
    "    print(\"getting tweets before %s\" % (oldest))\n",
    "\n",
    "    #all subsiquent requests use the max_id param to prevent duplicates\n",
    "    new_tweets = api.user_timeline(screen_name = 'realDonaldTrump',count=200,max_id=oldest,include_rts = False)\n",
    "\n",
    "    #save most recent tweets\n",
    "    alltweets.extend(new_tweets)\n",
    "\n",
    "    #update the id of the oldest tweet less one\n",
    "    oldest = alltweets[-1].id - 1\n",
    "\n",
    "    print(\"...%s tweets downloaded so far\" % (len(alltweets)))\n"
   ]
  },
  {
   "cell_type": "markdown",
   "metadata": {},
   "source": [
    "Great, so now we have a list of all the tweet objects. Each tweet object has a wealth of associated metadata, which we can explore:"
   ]
  },
  {
   "cell_type": "code",
   "execution_count": 5,
   "metadata": {
    "collapsed": false
   },
   "outputs": [
    {
     "name": "stdout",
     "output_type": "stream",
     "text": [
      "['__class__', '__delattr__', '__dict__', '__dir__', '__doc__', '__eq__', '__format__', '__ge__', '__getattribute__', '__getstate__', '__gt__', '__hash__', '__init__', '__init_subclass__', '__le__', '__lt__', '__module__', '__ne__', '__new__', '__reduce__', '__reduce_ex__', '__repr__', '__setattr__', '__sizeof__', '__str__', '__subclasshook__', '__weakref__', '_api', '_json', 'author', 'contributors', 'coordinates', 'created_at', 'destroy', 'entities', 'extended_entities', 'favorite', 'favorite_count', 'favorited', 'geo', 'id', 'id_str', 'in_reply_to_screen_name', 'in_reply_to_status_id', 'in_reply_to_status_id_str', 'in_reply_to_user_id', 'in_reply_to_user_id_str', 'is_quote_status', 'lang', 'parse', 'parse_list', 'place', 'possibly_sensitive', 'retweet', 'retweet_count', 'retweeted', 'retweeted_status', 'retweets', 'source', 'source_url', 'text', 'truncated', 'user']\n"
     ]
    }
   ],
   "source": [
    "print(dir(alltweets[0]))"
   ]
  },
  {
   "cell_type": "markdown",
   "metadata": {
    "collapsed": true
   },
   "source": [
    "At this point, I really want to use NLTK's VADER sentiment analysis package to calculate a sentiment score for each tweet. The algorithm calculates a compound \"polarity\" score for each tweet - that is, it analyzes words that are commonly associated with positive or negative sentiments, and assigns a weighted average of sorts to the tweet. It might be interesting to plot the sentiment of each tweet over time and see if we can find any interesting results. "
   ]
  },
  {
   "cell_type": "markdown",
   "metadata": {},
   "source": [
    "Since for now the only information we need is the tweet text itself, let's create a dictionary of the tweet content with its tweet ID so we can reference other metadata later."
   ]
  },
  {
   "cell_type": "code",
   "execution_count": 6,
   "metadata": {
    "collapsed": false
   },
   "outputs": [],
   "source": [
    "tweetcontent = {}\n",
    "tweetdates = {}\n",
    "for tweet in alltweets: \n",
    "    tweetcontent[tweet.id] = tweet.text\n",
    "    tweetdates[tweet.id] = tweet.created_at\n"
   ]
  },
  {
   "cell_type": "markdown",
   "metadata": {},
   "source": [
    "Cool, now we have a dictionary of tweet IDs and the relevant tweet content. Let's throw this into VADER and see what we find..."
   ]
  },
  {
   "cell_type": "code",
   "execution_count": 7,
   "metadata": {
    "collapsed": false
   },
   "outputs": [],
   "source": [
    "sid = SentimentIntensityAnalyzer()\n",
    "sentiment_scores= {}\n",
    "for key in tweetcontent:\n",
    "    ss = sid.polarity_scores(tweetcontent[key])\n",
    "    sentiment_scores[key] = ss['compound'] #save the compound scores into a dictionary "
   ]
  },
  {
   "cell_type": "markdown",
   "metadata": {
    "collapsed": true
   },
   "source": [
    "Now we have the compound sentiment scores for all of the tweets in the corpus. Let's see if we can plot these over time and see if anything stands out. \n"
   ]
  },
  {
   "cell_type": "code",
   "execution_count": 8,
   "metadata": {
    "collapsed": false
   },
   "outputs": [],
   "source": [
    "#combine the dictionaries \n",
    "dates_sentiment = {}\n",
    "for key in tweetcontent:\n",
    "    dates_sentiment[key] = [tweetdates[key], sentiment_scores[key]]\n",
    "        "
   ]
  },
  {
   "cell_type": "code",
   "execution_count": 9,
   "metadata": {
    "collapsed": false
   },
   "outputs": [
    {
     "data": {
      "image/png": "[encoded data removed]",
      "text/plain": [
       "<matplotlib.figure.Figure at 0x113733978>"
      ]
     },
     "metadata": {},
     "output_type": "display_data"
    }
   ],
   "source": [
    "#extract the vectors \n",
    "dates = []\n",
    "scores = []\n",
    "for key in dates_sentiment: \n",
    "    dates.append(dates_sentiment[key][0])\n",
    "    scores.append(dates_sentiment[key][1])\n",
    "\n",
    "#convert dates to Matplotlib format\n",
    "#dates = matplotlib.dates.date2num(dates)\n",
    "plt.plot_date(dates[0:50], scores[0:50])\n",
    "plt.show()"
   ]
  },
  {
   "cell_type": "markdown",
   "metadata": {
    "collapsed": true
   },
   "source": [
    "Plotting the tweet scores on their own doesn't seem to reveal anything enlightening. Let's see how else we can summarize the scores another way. Let's plot the average score per month to consolidate some of the data."
   ]
  },
  {
   "cell_type": "code",
   "execution_count": 10,
   "metadata": {
    "collapsed": false
   },
   "outputs": [
    {
     "name": "stdout",
     "output_type": "stream",
     "text": [
      "Year, Month\tAverage Tweet Sentiment\n"
     ]
    },
    {
     "data": {
      "text/plain": [
       "{(2016, 6): 0.10638260869565218,\n",
       " (2016, 7): 0.014003966005665724,\n",
       " (2016, 8): 0.082540671641791019,\n",
       " (2016, 9): 0.23030073529411743,\n",
       " (2016, 10): 0.12231531914893605,\n",
       " (2016, 11): 0.28088938547486036,\n",
       " (2016, 12): 0.26409465648854952,\n",
       " (2017, 1): 0.08974207920792078,\n",
       " (2017, 2): 0.02550136986301367,\n",
       " (2017, 3): 0.26158854961832062,\n",
       " (2017, 4): 0.20616204379562042,\n",
       " (2017, 5): 0.19147777777777783,\n",
       " (2017, 6): 0.11944393063583812,\n",
       " (2017, 7): 0.2369951965065501,\n",
       " (2017, 8): 0.20757037037037029}"
      ]
     },
     "execution_count": 10,
     "metadata": {},
     "output_type": "execute_result"
    }
   ],
   "source": [
    "df = pd.DataFrame.from_dict(dates_sentiment, orient='index')\n",
    "d = df.groupby([(df[0].dt.year),(df[0].dt.month)])[1].mean().to_dict()\n",
    "print(\"Year, Month\" + \"\\t\" + \"Average Tweet Sentiment\")\n",
    "d"
   ]
  },
  {
   "cell_type": "code",
   "execution_count": 29,
   "metadata": {
    "collapsed": false
   },
   "outputs": [
    {
     "data": {
      "image/png": "[encoded data removed]",
      "text/plain": [
       "<matplotlib.figure.Figure at 0x118d7b0b8>"
      ]
     },
     "metadata": {},
     "output_type": "display_data"
    }
   ],
   "source": [
    "dates = range(0, len(d.keys()))\n",
    "scores = list(d.values())\n",
    "plt.plot(dates, scores)\n",
    "labels = list(d.keys())\n",
    "plt.xticks(dates, labels, rotation = 70)\n",
    "plt.show()"
   ]
  },
  {
   "cell_type": "markdown",
   "metadata": {
    "collapsed": true
   },
   "source": [
    " As we can see, Tweet sentiment peaks around election time (understandably!) and plummets post-election. Pretty interesting to see. In later notebooks I want to expand on this data and plot some of the geographic results. Stay tuned."
   ]
  }
 ],
 "metadata": {
  "kernelspec": {
   "display_name": "Python 3",
   "language": "python",
   "name": "python3"
  },
  "language_info": {
   "codemirror_mode": {
    "name": "ipython",
    "version": 3
   },
   "file_extension": ".py",
   "mimetype": "text/x-python",
   "name": "python",
   "nbconvert_exporter": "python",
   "pygments_lexer": "ipython3",
   "version": "3.6.0"
  }
 },
 "nbformat": 4,
 "nbformat_minor": 2
}
